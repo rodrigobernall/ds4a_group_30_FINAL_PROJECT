{
  "nbformat": 4,
  "nbformat_minor": 0,
  "metadata": {
    "colab": {
      "name": "SECOP I 2019 Data Wrangling.ipynb",
      "provenance": [],
      "collapsed_sections": [],
      "include_colab_link": true
    },
    "kernelspec": {
      "name": "python3",
      "display_name": "Python 3"
    }
  },
  "cells": [
    {
      "cell_type": "markdown",
      "metadata": {
        "id": "view-in-github",
        "colab_type": "text"
      },
      "source": [
        "<a href=\"https://colab.research.google.com/github/rodrigobernall/ds4a_group_30_FINAL_PROJECT/blob/master/scripts/data_wrangling/SECOP_I_2019_Data_Wrangling.ipynb\" target=\"_parent\"><img src=\"https://colab.research.google.com/assets/colab-badge.svg\" alt=\"Open In Colab\"/></a>"
      ]
    },
    {
      "cell_type": "markdown",
      "metadata": {
        "id": "nKz-dGONt5BK",
        "colab_type": "text"
      },
      "source": [
        "# Importing the libraries\n",
        "\n",
        "More SECOP data can be found [here](https://www.datos.gov.co/Ciencia-Tecnolog-a-e-Innovaci-n/Inventario-de-Datasets/2irh-ijg2)."
      ]
    },
    {
      "cell_type": "code",
      "metadata": {
        "id": "XC9tHsKZv9Mf",
        "colab_type": "code",
        "colab": {}
      },
      "source": [
        "import pandas as pd\n",
        "import numpy as np\n",
        "from zipfile import ZipFile\n",
        "import urllib.request\n",
        "import json\n",
        "from pandas.io.json import json_normalize"
      ],
      "execution_count": 0,
      "outputs": []
    },
    {
      "cell_type": "markdown",
      "metadata": {
        "id": "KW-Fx-v8uHh-",
        "colab_type": "text"
      },
      "source": [
        "# Importing the data\n",
        "\n",
        "We download the 2019 data from a Dropbox URL (zip file.)"
      ]
    },
    {
      "cell_type": "code",
      "metadata": {
        "id": "q53QHCU3wNS_",
        "colab_type": "code",
        "colab": {}
      },
      "source": [
        "url = 'https://www.dropbox.com/s/r56zkj70r5eldmn/SI2019.zip?dl=1'\n",
        "print('Beginning file download with urllib2...')\n",
        "urllib.request.urlretrieve(url, 'SI2019.zip')"
      ],
      "execution_count": 0,
      "outputs": []
    },
    {
      "cell_type": "markdown",
      "metadata": {
        "id": "aHdfODnXui_1",
        "colab_type": "text"
      },
      "source": [
        "Extracting the data"
      ]
    },
    {
      "cell_type": "code",
      "metadata": {
        "id": "sMELLpjUxwDp",
        "colab_type": "code",
        "colab": {}
      },
      "source": [
        "!ls"
      ],
      "execution_count": 0,
      "outputs": []
    },
    {
      "cell_type": "code",
      "metadata": {
        "id": "p746DspoumOD",
        "colab_type": "code",
        "colab": {}
      },
      "source": [
        "# Create a ZipFile Object and load sample.zip in it\n",
        "with ZipFile('SI2019.zip', 'r') as zipObj:\n",
        "   # Extract all the contents of zip file in current directory\n",
        "   zipObj.extractall()"
      ],
      "execution_count": 0,
      "outputs": []
    },
    {
      "cell_type": "markdown",
      "metadata": {
        "id": "3flMSQVEuoAA",
        "colab_type": "text"
      },
      "source": [
        "Let's read the data into Pandas using `pd.read_json()`"
      ]
    },
    {
      "cell_type": "code",
      "metadata": {
        "id": "i4h9-WGWxyaQ",
        "colab_type": "code",
        "colab": {}
      },
      "source": [
        "si2019 = pd.read_json('SI2019.zip', encoding='latin-1', lines=True)\n",
        "si2019.head()"
      ],
      "execution_count": 0,
      "outputs": []
    },
    {
      "cell_type": "markdown",
      "metadata": {
        "id": "sfQ2MmR_uvtc",
        "colab_type": "text"
      },
      "source": [
        "Now let's extract just one record, the first one:"
      ]
    },
    {
      "cell_type": "code",
      "metadata": {
        "id": "xhAJKSuX0Smf",
        "colab_type": "code",
        "colab": {}
      },
      "source": [
        "df = si2019.head(1).copy()\n",
        "df"
      ],
      "execution_count": 0,
      "outputs": []
    },
    {
      "cell_type": "markdown",
      "metadata": {
        "id": "HFwXyyDWu2VY",
        "colab_type": "text"
      },
      "source": [
        "Let's explore its structure:"
      ]
    },
    {
      "cell_type": "code",
      "metadata": {
        "id": "Kwqyzc-yt0Qj",
        "colab_type": "code",
        "colab": {
          "base_uri": "https://localhost:8080/",
          "height": 1000
        },
        "outputId": "fba5dbdf-71e2-4942-e952-17f67fb98fb7"
      },
      "source": [
        "df['Release'].to_dict()"
      ],
      "execution_count": 21,
      "outputs": [
        {
          "output_type": "execute_result",
          "data": {
            "text/plain": [
              "{0: {'buyer': {'id': '891502397',\n",
              "   'name': 'META - ALCALDÍA MUNICIPIO DE MESETAS'},\n",
              "  'contracts': [{'awardID': 8118331,\n",
              "    'dateSigned': '2019-01-22T00:00:00.000Z',\n",
              "    'description': 'PRESTACION DE SERVICIOS DE APOYO A LA GESTION PARA EL EMBELLECIMIENTO DEL CEMENTERIO MUNICIPAL DE MESETAS',\n",
              "    'id': 8118331,\n",
              "    'items': [{'additionalClassifications': [{'description': 'Servicios de recursos humanos',\n",
              "        'id': '8011',\n",
              "        'scheme': 'UNSPSC',\n",
              "        'uri': 'http://www.colombiacompra.gov.co/clasificador-de-bienes-y-servicios'}],\n",
              "      'classification': {'description': 'Reclutamiento de personal',\n",
              "       'id': '801117',\n",
              "       'scheme': 'UNSPSC',\n",
              "       'uri': 'http://www.colombiacompra.gov.co/clasificador-de-bienes-y-servicios'},\n",
              "      'description': 'Reclutamiento de personal',\n",
              "      'id': '801117'}],\n",
              "    'period': {'durationInDays': 330, 'startDate': '2019-01-22T00:00:00.000Z'},\n",
              "    'title': '043 DE 2019',\n",
              "    'value': {'amount': 16800000.0, 'currency': 'COP'}}],\n",
              "  'date': '2019-01-25T10:00:30.000Z',\n",
              "  'id': '19-12-8923103',\n",
              "  'initiationType': 'tender',\n",
              "  'ocid': 'ocds-k50g02-19-12-8923103',\n",
              "  'parties': [{'address': {'countryName': 'COLOMBIA',\n",
              "     'locality': 'Mesetas',\n",
              "     'region': 'Meta'},\n",
              "    'contactPoint': {'email': 'bancodeproyectos@mesetas-meta.gov.co',\n",
              "     'name': 'LILIANA CASTRO',\n",
              "     'telephone': '(8) 6598012'},\n",
              "    'details': {'level': 'TERRITORIAL',\n",
              "     'order': 'TERRITORIAL DISTRITAL MUNICIPAL NIVEL 6'},\n",
              "    'id': '891502397',\n",
              "    'identifier': {'id': '891502397',\n",
              "     'legalName': 'META - ALCALDÍA MUNICIPIO DE MESETAS',\n",
              "     'scheme': 'CO-RUE'},\n",
              "    'name': 'META - ALCALDÍA MUNICIPIO DE MESETAS',\n",
              "    'roles': ['procuringEntity', 'buyer', 'payer']},\n",
              "   {'additionalContactPoint': {'identifier': {'id': '17285105',\n",
              "      'legalName': 'WILSON GIRALDO MONTENEGRO',\n",
              "      'scheme': 'COL-IDCARD'}},\n",
              "    'address': {'countryName': 'COLOMBIA',\n",
              "     'locality': 'Meta',\n",
              "     'region': ' Colombia',\n",
              "     'streetAddress': 'MESETAS META'},\n",
              "    'contactPoint': {'name': 'WILSON GIRALDO MONTENEGRO'},\n",
              "    'id': '17285105',\n",
              "    'identifier': {'id': '17285105',\n",
              "     'legalName': 'WILSON GIRALDO MONTENEGRO',\n",
              "     'scheme': 'CO-RUE'},\n",
              "    'name': 'WILSON GIRALDO MONTENEGRO',\n",
              "    'roles': ['supplier', 'payee']}],\n",
              "  'planning': {'budget': {'amount': {'amount': 16800000.0, 'currency': 'COP'},\n",
              "    'description': 'CDP',\n",
              "    'id': '20190000024'},\n",
              "   'milestones': [{'dueDate': '2019-01-22T20:00:00.000Z',\n",
              "     'id': 1,\n",
              "     'status': 'scheduled',\n",
              "     'title': 'Apertura',\n",
              "     'type': 'preProcurement'}],\n",
              "   'rationale': 'PRESTACION DE SERVICIOS DE APOYO A LA GESTION PARA EL EMBELLECIMIENTO DEL CEMENTERIO MUNICIPAL DE MESETAS'},\n",
              "  'tag': ['contract'],\n",
              "  'tender': {'coveredBy': ['x_Estatuto_General_de_Contratación'],\n",
              "   'description': 'PRESTACION DE SERVICIOS DE APOYO A LA GESTION PARA EL EMBELLECIMIENTO DEL CEMENTERIO MUNICIPAL DE MESETAS',\n",
              "   'expressionAddress': {'countryName': 'Colombia'},\n",
              "   'id': '19-12-8923103',\n",
              "   'items': [{'additionalClassifications': [{'description': 'Servicios de recursos humanos',\n",
              "       'id': '8011',\n",
              "       'scheme': 'UNSPSC',\n",
              "       'uri': 'http://www.colombiacompra.gov.co/clasificador-de-bienes-y-servicios'}],\n",
              "     'classification': {'description': 'Reclutamiento de personal',\n",
              "      'id': '801117',\n",
              "      'scheme': 'UNSPSC',\n",
              "      'uri': 'http://www.colombiacompra.gov.co/clasificador-de-bienes-y-servicios'},\n",
              "     'description': 'Reclutamiento de personal',\n",
              "     'id': '801117'}],\n",
              "   'milestones': [{'dueDate': '2019-01-22T20:00:00.000Z',\n",
              "     'id': 1,\n",
              "     'status': 'scheduled',\n",
              "     'title': 'Apertura',\n",
              "     'type': 'preProcurement'}],\n",
              "   'procurementMethod': 'limited',\n",
              "   'procurementMethodDetails': 'Contratación Directa (Ley 1150 de 2007)',\n",
              "   'procurementMethodDetailsRationale': 'Prestación de Servicios Profesionales y de Apoyo a la Gestión (Literal H)',\n",
              "   'procuringEntity': {'id': '891502397',\n",
              "    'name': 'META - ALCALDÍA MUNICIPIO DE MESETAS'},\n",
              "   'status': 'complete',\n",
              "   'submissionMethod': ['inPerson'],\n",
              "   'submissionMethodDetails': 'Municipio obtención: Mesetas Municipio entrega: Mesetas Municipio ejecución: Meta - Mesetas Lugar aclaraciones: No definido',\n",
              "   'tenderPeriod': {'startDate': '2019-01-22T20:00:00.000Z'},\n",
              "   'title': 'CD - 043 DE 2019',\n",
              "   'value': {'amount': 16800000.0, 'currency': 'COP'}}}}"
            ]
          },
          "metadata": {
            "tags": []
          },
          "execution_count": 21
        }
      ]
    },
    {
      "cell_type": "markdown",
      "metadata": {
        "id": "rr6_7GRHu5oW",
        "colab_type": "text"
      },
      "source": [
        "# Parsing the JSON records to obtain usable dataframes"
      ]
    },
    {
      "cell_type": "markdown",
      "metadata": {
        "id": "LOyDkGwDR-pI",
        "colab_type": "text"
      },
      "source": [
        "We shall create a function that does the following *for each record*:\n",
        "\n",
        "1. Normalises the JSON file.\n",
        "1. Checks which columns are JSON arrays (Python lists).\n",
        "1. For each column that is an array, it normalises it.\n",
        "1. Repeat the previous steps until there are no arrays left.\n",
        "1. Keeps track of the identifiers for each column.\n",
        "1. Creates a normalised DataFrame with all the data.\n",
        "\n",
        "\n",
        "This function is called json_row_to_df().\n",
        "\n",
        "Some good resources are [this one](https://mindtrove.info/flatten-nested-json-with-pandas/), [this one](https://stackoverflow.com/questions/45418334/using-pandas-json-normalize-on-nested-json-with-arrays), [this one](https://stackoverflow.com/questions/45672130/how-to-identify-a-pandas-column-is-a-list) and [this one](https://stackoverflow.com/questions/20638006/convert-list-of-dictionaries-to-a-pandas-dataframe/53831756#53831756)."
      ]
    },
    {
      "cell_type": "code",
      "metadata": {
        "id": "DTK-IsWIPr59",
        "colab_type": "code",
        "outputId": "54e8b6f7-6ad7-4d43-ce19-a470fafc3c02",
        "colab": {
          "base_uri": "https://localhost:8080/",
          "height": 721
        }
      },
      "source": [
        "RELEASE = df['Release']\n",
        "MAIN = json_normalize(RELEASE).set_index('ocid')\n",
        "ocid = MAIN.index[0]\n",
        "\n",
        "## Las ramas primarias\n",
        "PARTIES = json_normalize(RELEASE, record_path='parties')\n",
        "MAIN = MAIN.drop(columns=['parties'])\n",
        "PARTIES['ocid'] = ocid\n",
        "PARTIES = PARTIES.set_index('ocid')\n",
        "PARTIES = PARTIES.add_prefix('PARTIES.')\n",
        "\n",
        "CONTRACTS = json_normalize(RELEASE, record_path='contracts')\n",
        "MAIN = MAIN.drop(columns=['contracts'])\n",
        "CONTRACTS['ocid'] = ocid\n",
        "CONTRACTS = CONTRACTS.set_index('ocid')\n",
        "CONTRACTS = CONTRACTS.add_prefix('CONTRACTS.')\n",
        "\n",
        "## Ramas secundarias\n",
        "\n",
        "PLANNING_MILESTONES = json_normalize(MAIN['planning.milestones'][0])\n",
        "MAIN = MAIN.drop(columns=['planning.milestones'])\n",
        "PLANNING_MILESTONES['ocid'] = ocid\n",
        "PLANNING_MILESTONES = PLANNING_MILESTONES.set_index('ocid')\n",
        "PLANNING_MILESTONES = PLANNING_MILESTONES.add_prefix('PLANNING.MILESTONES.')\n",
        "\n",
        "ITEMS = json_normalize(CONTRACTS['CONTRACTS.items'][0])\n",
        "CONTRACTS = CONTRACTS.drop(columns=['CONTRACTS.items'])\n",
        "ITEMS['ocid'] = ocid\n",
        "ITEMS = ITEMS.set_index('ocid')\n",
        "ITEMS = ITEMS.add_prefix('CONTRACTS.ITEMS.')\n",
        "\n",
        "ADDITIONALCLASSIFICATIONS = json_normalize(ITEMS['CONTRACTS.ITEMS.additionalClassifications'][0])\n",
        "ITEMS = ITEMS.drop(columns=['CONTRACTS.ITEMS.additionalClassifications'])\n",
        "ADDITIONALCLASSIFICATIONS['ocid'] = ocid\n",
        "ADDITIONALCLASSIFICATIONS = ADDITIONALCLASSIFICATIONS.set_index('ocid')\n",
        "ADDITIONALCLASSIFICATIONS = ADDITIONALCLASSIFICATIONS.add_prefix('CONTRACTS.ITEMS.ADDITIONALCLASSIFICATIONS.')\n",
        "\n",
        "CONTRACTS_PERIOD = json_normalize(CONTRACTS['CONTRACTS.period'][0])\n",
        "CONTRACTS = CONTRACTS.drop(columns=['CONTRACTS.period'])\n",
        "CONTRACTS_PERIOD['ocid'] = ocid\n",
        "CONTRACTS_PERIOD = CONTRACTS_PERIOD.set_index('ocid')\n",
        "CONTRACTS_PERIOD = CONTRACTS_PERIOD.add_prefix('CONTRACTS.PERIOD.')\n",
        "\n",
        "\n",
        "# ## JOIN\n",
        "\n",
        "# RESULT = MAIN.join(CONTRACTS).join(ITEMS).join(ADDITIONALCLASSIFICATIONS).join(PARTIES).join(PLANNING_MILESTONES).join(CONTRACTS_VALUE).join(CONTRACTS_PERIOD)\n",
        "# RESULT = pd.DataFrame(RESULT.stack()).reset_index()\n",
        "# #RESULT.index = \n",
        "# i = RESULT['level_1'].str.split('.',expand=True)\n",
        "# v = RESULT.values\n",
        "# #pd.DataFrame(v, index=[i])\n",
        "# #CONTRACTS\n",
        "# i.set_index([0,1,2,3])\n",
        "# #MAIN"
      ],
      "execution_count": 20,
      "outputs": [
        {
          "output_type": "error",
          "ename": "KeyError",
          "evalue": "ignored",
          "traceback": [
            "\u001b[0;31m---------------------------------------------------------------------------\u001b[0m",
            "\u001b[0;31mKeyError\u001b[0m                                  Traceback (most recent call last)",
            "\u001b[0;32m/usr/local/lib/python3.6/dist-packages/pandas/core/indexes/base.py\u001b[0m in \u001b[0;36mget_loc\u001b[0;34m(self, key, method, tolerance)\u001b[0m\n\u001b[1;32m   2896\u001b[0m             \u001b[0;32mtry\u001b[0m\u001b[0;34m:\u001b[0m\u001b[0;34m\u001b[0m\u001b[0;34m\u001b[0m\u001b[0m\n\u001b[0;32m-> 2897\u001b[0;31m                 \u001b[0;32mreturn\u001b[0m \u001b[0mself\u001b[0m\u001b[0;34m.\u001b[0m\u001b[0m_engine\u001b[0m\u001b[0;34m.\u001b[0m\u001b[0mget_loc\u001b[0m\u001b[0;34m(\u001b[0m\u001b[0mkey\u001b[0m\u001b[0;34m)\u001b[0m\u001b[0;34m\u001b[0m\u001b[0;34m\u001b[0m\u001b[0m\n\u001b[0m\u001b[1;32m   2898\u001b[0m             \u001b[0;32mexcept\u001b[0m \u001b[0mKeyError\u001b[0m\u001b[0;34m:\u001b[0m\u001b[0;34m\u001b[0m\u001b[0;34m\u001b[0m\u001b[0m\n",
            "\u001b[0;32mpandas/_libs/index.pyx\u001b[0m in \u001b[0;36mpandas._libs.index.IndexEngine.get_loc\u001b[0;34m()\u001b[0m\n",
            "\u001b[0;32mpandas/_libs/index.pyx\u001b[0m in \u001b[0;36mpandas._libs.index.IndexEngine.get_loc\u001b[0;34m()\u001b[0m\n",
            "\u001b[0;32mpandas/_libs/hashtable_class_helper.pxi\u001b[0m in \u001b[0;36mpandas._libs.hashtable.PyObjectHashTable.get_item\u001b[0;34m()\u001b[0m\n",
            "\u001b[0;32mpandas/_libs/hashtable_class_helper.pxi\u001b[0m in \u001b[0;36mpandas._libs.hashtable.PyObjectHashTable.get_item\u001b[0;34m()\u001b[0m\n",
            "\u001b[0;31mKeyError\u001b[0m: 'CONTRACTS.period'",
            "\nDuring handling of the above exception, another exception occurred:\n",
            "\u001b[0;31mKeyError\u001b[0m                                  Traceback (most recent call last)",
            "\u001b[0;32m<ipython-input-20-83732f21aa86>\u001b[0m in \u001b[0;36m<module>\u001b[0;34m()\u001b[0m\n\u001b[1;32m     36\u001b[0m \u001b[0mADDITIONALCLASSIFICATIONS\u001b[0m \u001b[0;34m=\u001b[0m \u001b[0mADDITIONALCLASSIFICATIONS\u001b[0m\u001b[0;34m.\u001b[0m\u001b[0madd_prefix\u001b[0m\u001b[0;34m(\u001b[0m\u001b[0;34m'CONTRACTS.ITEMS.ADDITIONALCLASSIFICATIONS.'\u001b[0m\u001b[0;34m)\u001b[0m\u001b[0;34m\u001b[0m\u001b[0;34m\u001b[0m\u001b[0m\n\u001b[1;32m     37\u001b[0m \u001b[0;34m\u001b[0m\u001b[0m\n\u001b[0;32m---> 38\u001b[0;31m \u001b[0mCONTRACTS_PERIOD\u001b[0m \u001b[0;34m=\u001b[0m \u001b[0mjson_normalize\u001b[0m\u001b[0;34m(\u001b[0m\u001b[0mCONTRACTS\u001b[0m\u001b[0;34m[\u001b[0m\u001b[0;34m'CONTRACTS.period'\u001b[0m\u001b[0;34m]\u001b[0m\u001b[0;34m[\u001b[0m\u001b[0;36m0\u001b[0m\u001b[0;34m]\u001b[0m\u001b[0;34m)\u001b[0m\u001b[0;34m\u001b[0m\u001b[0;34m\u001b[0m\u001b[0m\n\u001b[0m\u001b[1;32m     39\u001b[0m \u001b[0mCONTRACTS\u001b[0m \u001b[0;34m=\u001b[0m \u001b[0mCONTRACTS\u001b[0m\u001b[0;34m.\u001b[0m\u001b[0mdrop\u001b[0m\u001b[0;34m(\u001b[0m\u001b[0mcolumns\u001b[0m\u001b[0;34m=\u001b[0m\u001b[0;34m[\u001b[0m\u001b[0;34m'CONTRACTS.period'\u001b[0m\u001b[0;34m]\u001b[0m\u001b[0;34m)\u001b[0m\u001b[0;34m\u001b[0m\u001b[0;34m\u001b[0m\u001b[0m\n\u001b[1;32m     40\u001b[0m \u001b[0mCONTRACTS_PERIOD\u001b[0m\u001b[0;34m[\u001b[0m\u001b[0;34m'ocid'\u001b[0m\u001b[0;34m]\u001b[0m \u001b[0;34m=\u001b[0m \u001b[0mocid\u001b[0m\u001b[0;34m\u001b[0m\u001b[0;34m\u001b[0m\u001b[0m\n",
            "\u001b[0;32m/usr/local/lib/python3.6/dist-packages/pandas/core/frame.py\u001b[0m in \u001b[0;36m__getitem__\u001b[0;34m(self, key)\u001b[0m\n\u001b[1;32m   2993\u001b[0m             \u001b[0;32mif\u001b[0m \u001b[0mself\u001b[0m\u001b[0;34m.\u001b[0m\u001b[0mcolumns\u001b[0m\u001b[0;34m.\u001b[0m\u001b[0mnlevels\u001b[0m \u001b[0;34m>\u001b[0m \u001b[0;36m1\u001b[0m\u001b[0;34m:\u001b[0m\u001b[0;34m\u001b[0m\u001b[0;34m\u001b[0m\u001b[0m\n\u001b[1;32m   2994\u001b[0m                 \u001b[0;32mreturn\u001b[0m \u001b[0mself\u001b[0m\u001b[0;34m.\u001b[0m\u001b[0m_getitem_multilevel\u001b[0m\u001b[0;34m(\u001b[0m\u001b[0mkey\u001b[0m\u001b[0;34m)\u001b[0m\u001b[0;34m\u001b[0m\u001b[0;34m\u001b[0m\u001b[0m\n\u001b[0;32m-> 2995\u001b[0;31m             \u001b[0mindexer\u001b[0m \u001b[0;34m=\u001b[0m \u001b[0mself\u001b[0m\u001b[0;34m.\u001b[0m\u001b[0mcolumns\u001b[0m\u001b[0;34m.\u001b[0m\u001b[0mget_loc\u001b[0m\u001b[0;34m(\u001b[0m\u001b[0mkey\u001b[0m\u001b[0;34m)\u001b[0m\u001b[0;34m\u001b[0m\u001b[0;34m\u001b[0m\u001b[0m\n\u001b[0m\u001b[1;32m   2996\u001b[0m             \u001b[0;32mif\u001b[0m \u001b[0mis_integer\u001b[0m\u001b[0;34m(\u001b[0m\u001b[0mindexer\u001b[0m\u001b[0;34m)\u001b[0m\u001b[0;34m:\u001b[0m\u001b[0;34m\u001b[0m\u001b[0;34m\u001b[0m\u001b[0m\n\u001b[1;32m   2997\u001b[0m                 \u001b[0mindexer\u001b[0m \u001b[0;34m=\u001b[0m \u001b[0;34m[\u001b[0m\u001b[0mindexer\u001b[0m\u001b[0;34m]\u001b[0m\u001b[0;34m\u001b[0m\u001b[0;34m\u001b[0m\u001b[0m\n",
            "\u001b[0;32m/usr/local/lib/python3.6/dist-packages/pandas/core/indexes/base.py\u001b[0m in \u001b[0;36mget_loc\u001b[0;34m(self, key, method, tolerance)\u001b[0m\n\u001b[1;32m   2897\u001b[0m                 \u001b[0;32mreturn\u001b[0m \u001b[0mself\u001b[0m\u001b[0;34m.\u001b[0m\u001b[0m_engine\u001b[0m\u001b[0;34m.\u001b[0m\u001b[0mget_loc\u001b[0m\u001b[0;34m(\u001b[0m\u001b[0mkey\u001b[0m\u001b[0;34m)\u001b[0m\u001b[0;34m\u001b[0m\u001b[0;34m\u001b[0m\u001b[0m\n\u001b[1;32m   2898\u001b[0m             \u001b[0;32mexcept\u001b[0m \u001b[0mKeyError\u001b[0m\u001b[0;34m:\u001b[0m\u001b[0;34m\u001b[0m\u001b[0;34m\u001b[0m\u001b[0m\n\u001b[0;32m-> 2899\u001b[0;31m                 \u001b[0;32mreturn\u001b[0m \u001b[0mself\u001b[0m\u001b[0;34m.\u001b[0m\u001b[0m_engine\u001b[0m\u001b[0;34m.\u001b[0m\u001b[0mget_loc\u001b[0m\u001b[0;34m(\u001b[0m\u001b[0mself\u001b[0m\u001b[0;34m.\u001b[0m\u001b[0m_maybe_cast_indexer\u001b[0m\u001b[0;34m(\u001b[0m\u001b[0mkey\u001b[0m\u001b[0;34m)\u001b[0m\u001b[0;34m)\u001b[0m\u001b[0;34m\u001b[0m\u001b[0;34m\u001b[0m\u001b[0m\n\u001b[0m\u001b[1;32m   2900\u001b[0m         \u001b[0mindexer\u001b[0m \u001b[0;34m=\u001b[0m \u001b[0mself\u001b[0m\u001b[0;34m.\u001b[0m\u001b[0mget_indexer\u001b[0m\u001b[0;34m(\u001b[0m\u001b[0;34m[\u001b[0m\u001b[0mkey\u001b[0m\u001b[0;34m]\u001b[0m\u001b[0;34m,\u001b[0m \u001b[0mmethod\u001b[0m\u001b[0;34m=\u001b[0m\u001b[0mmethod\u001b[0m\u001b[0;34m,\u001b[0m \u001b[0mtolerance\u001b[0m\u001b[0;34m=\u001b[0m\u001b[0mtolerance\u001b[0m\u001b[0;34m)\u001b[0m\u001b[0;34m\u001b[0m\u001b[0;34m\u001b[0m\u001b[0m\n\u001b[1;32m   2901\u001b[0m         \u001b[0;32mif\u001b[0m \u001b[0mindexer\u001b[0m\u001b[0;34m.\u001b[0m\u001b[0mndim\u001b[0m \u001b[0;34m>\u001b[0m \u001b[0;36m1\u001b[0m \u001b[0;32mor\u001b[0m \u001b[0mindexer\u001b[0m\u001b[0;34m.\u001b[0m\u001b[0msize\u001b[0m \u001b[0;34m>\u001b[0m \u001b[0;36m1\u001b[0m\u001b[0;34m:\u001b[0m\u001b[0;34m\u001b[0m\u001b[0;34m\u001b[0m\u001b[0m\n",
            "\u001b[0;32mpandas/_libs/index.pyx\u001b[0m in \u001b[0;36mpandas._libs.index.IndexEngine.get_loc\u001b[0;34m()\u001b[0m\n",
            "\u001b[0;32mpandas/_libs/index.pyx\u001b[0m in \u001b[0;36mpandas._libs.index.IndexEngine.get_loc\u001b[0;34m()\u001b[0m\n",
            "\u001b[0;32mpandas/_libs/hashtable_class_helper.pxi\u001b[0m in \u001b[0;36mpandas._libs.hashtable.PyObjectHashTable.get_item\u001b[0;34m()\u001b[0m\n",
            "\u001b[0;32mpandas/_libs/hashtable_class_helper.pxi\u001b[0m in \u001b[0;36mpandas._libs.hashtable.PyObjectHashTable.get_item\u001b[0;34m()\u001b[0m\n",
            "\u001b[0;31mKeyError\u001b[0m: 'CONTRACTS.period'"
          ]
        }
      ]
    }
  ]
}
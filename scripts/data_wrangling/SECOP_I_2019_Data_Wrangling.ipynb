{
  "nbformat": 4,
  "nbformat_minor": 0,
  "metadata": {
    "colab": {
      "name": "SECOP I 2019 Data Wrangling.ipynb",
      "provenance": [],
      "collapsed_sections": [],
      "include_colab_link": true
    },
    "kernelspec": {
      "name": "python3",
      "display_name": "Python 3"
    }
  },
  "cells": [
    {
      "cell_type": "markdown",
      "metadata": {
        "id": "view-in-github",
        "colab_type": "text"
      },
      "source": [
        "<a href=\"https://colab.research.google.com/github/rodrigobernall/ds4a_group_30_FINAL_PROJECT/blob/master/scripts/data_wrangling/SECOP_I_2019_Data_Wrangling.ipynb\" target=\"_parent\"><img src=\"https://colab.research.google.com/assets/colab-badge.svg\" alt=\"Open In Colab\"/></a>"
      ]
    },
    {
      "cell_type": "markdown",
      "metadata": {
        "id": "nKz-dGONt5BK",
        "colab_type": "text"
      },
      "source": [
        "# Importing the libraries\n",
        "\n",
        "More SECOP data can be found [here](https://www.datos.gov.co/Ciencia-Tecnolog-a-e-Innovaci-n/Inventario-de-Datasets/2irh-ijg2)."
      ]
    },
    {
      "cell_type": "code",
      "metadata": {
        "id": "XC9tHsKZv9Mf",
        "colab_type": "code",
        "colab": {}
      },
      "source": [
        "import pandas as pd\n",
        "import numpy as np\n",
        "from zipfile import ZipFile\n",
        "import urllib.request\n",
        "import json\n",
        "from pandas.io.json import json_normalize"
      ],
      "execution_count": 0,
      "outputs": []
    },
    {
      "cell_type": "markdown",
      "metadata": {
        "id": "KW-Fx-v8uHh-",
        "colab_type": "text"
      },
      "source": [
        "# Importing the data\n",
        "\n",
        "We download the 2019 data from a Dropbox URL (zip file.)"
      ]
    },
    {
      "cell_type": "code",
      "metadata": {
        "id": "q53QHCU3wNS_",
        "colab_type": "code",
        "colab": {}
      },
      "source": [
        "url = 'https://www.dropbox.com/s/r56zkj70r5eldmn/SI2019.zip?dl=1'\n",
        "print('Beginning file download with urllib2...')\n",
        "urllib.request.urlretrieve(url, 'SI2019.zip')"
      ],
      "execution_count": 0,
      "outputs": []
    },
    {
      "cell_type": "markdown",
      "metadata": {
        "id": "aHdfODnXui_1",
        "colab_type": "text"
      },
      "source": [
        "Extracting the data"
      ]
    },
    {
      "cell_type": "code",
      "metadata": {
        "id": "sMELLpjUxwDp",
        "colab_type": "code",
        "outputId": "8dcdc957-4ff6-476b-dbfb-26730cbdf94a",
        "colab": {
          "base_uri": "https://localhost:8080/",
          "height": 34
        }
      },
      "source": [
        "!ls"
      ],
      "execution_count": 22,
      "outputs": [
        {
          "output_type": "stream",
          "text": [
            "sample_data  SI2019.json  SI2019.zip\n"
          ],
          "name": "stdout"
        }
      ]
    },
    {
      "cell_type": "code",
      "metadata": {
        "id": "p746DspoumOD",
        "colab_type": "code",
        "colab": {}
      },
      "source": [
        "# Create a ZipFile Object and load sample.zip in it\n",
        "with ZipFile('SI2019.zip', 'r') as zipObj:\n",
        "   # Extract all the contents of zip file in current directory\n",
        "   zipObj.extractall()"
      ],
      "execution_count": 0,
      "outputs": []
    },
    {
      "cell_type": "markdown",
      "metadata": {
        "id": "3flMSQVEuoAA",
        "colab_type": "text"
      },
      "source": [
        "Let's read the data into Pandas using `pd.read_json()`"
      ]
    },
    {
      "cell_type": "code",
      "metadata": {
        "id": "i4h9-WGWxyaQ",
        "colab_type": "code",
        "colab": {
          "base_uri": "https://localhost:8080/",
          "height": 195
        },
        "outputId": "14306122-33b5-483d-bddd-fdb57b3ba2db"
      },
      "source": [
        "si2019 = pd.read_json('SI2019.zip', encoding='latin-1', lines=True)\n",
        "si2019.head()"
      ],
      "execution_count": 23,
      "outputs": [
        {
          "output_type": "execute_result",
          "data": {
            "text/html": [
              "<div>\n",
              "<style scoped>\n",
              "    .dataframe tbody tr th:only-of-type {\n",
              "        vertical-align: middle;\n",
              "    }\n",
              "\n",
              "    .dataframe tbody tr th {\n",
              "        vertical-align: top;\n",
              "    }\n",
              "\n",
              "    .dataframe thead th {\n",
              "        text-align: right;\n",
              "    }\n",
              "</style>\n",
              "<table border=\"1\" class=\"dataframe\">\n",
              "  <thead>\n",
              "    <tr style=\"text-align: right;\">\n",
              "      <th></th>\n",
              "      <th>Release</th>\n",
              "    </tr>\n",
              "  </thead>\n",
              "  <tbody>\n",
              "    <tr>\n",
              "      <th>0</th>\n",
              "      <td>{'ocid': 'ocds-k50g02-19-12-8923103', 'id': '1...</td>\n",
              "    </tr>\n",
              "    <tr>\n",
              "      <th>1</th>\n",
              "      <td>{'ocid': 'ocds-k50g02-19-12-8923107', 'id': '1...</td>\n",
              "    </tr>\n",
              "    <tr>\n",
              "      <th>2</th>\n",
              "      <td>{'ocid': 'ocds-k50g02-19-4-9099228', 'id': '19...</td>\n",
              "    </tr>\n",
              "    <tr>\n",
              "      <th>3</th>\n",
              "      <td>{'ocid': 'ocds-k50g02-19-12-8923112', 'id': '1...</td>\n",
              "    </tr>\n",
              "    <tr>\n",
              "      <th>4</th>\n",
              "      <td>{'ocid': 'ocds-k50g02-19-12-8923114', 'id': '1...</td>\n",
              "    </tr>\n",
              "  </tbody>\n",
              "</table>\n",
              "</div>"
            ],
            "text/plain": [
              "                                             Release\n",
              "0  {'ocid': 'ocds-k50g02-19-12-8923103', 'id': '1...\n",
              "1  {'ocid': 'ocds-k50g02-19-12-8923107', 'id': '1...\n",
              "2  {'ocid': 'ocds-k50g02-19-4-9099228', 'id': '19...\n",
              "3  {'ocid': 'ocds-k50g02-19-12-8923112', 'id': '1...\n",
              "4  {'ocid': 'ocds-k50g02-19-12-8923114', 'id': '1..."
            ]
          },
          "metadata": {
            "tags": []
          },
          "execution_count": 23
        }
      ]
    },
    {
      "cell_type": "markdown",
      "metadata": {
        "id": "sfQ2MmR_uvtc",
        "colab_type": "text"
      },
      "source": [
        "Now let's extract just one record, the first one:"
      ]
    },
    {
      "cell_type": "code",
      "metadata": {
        "id": "xhAJKSuX0Smf",
        "colab_type": "code",
        "colab": {}
      },
      "source": [
        "df = si2019.head(1).copy()\n",
        "df"
      ],
      "execution_count": 0,
      "outputs": []
    },
    {
      "cell_type": "markdown",
      "metadata": {
        "id": "HFwXyyDWu2VY",
        "colab_type": "text"
      },
      "source": [
        "Let's explore its structure (Note: This is a preview. In the actual file, non-standard characters are kept as they are, ie., they are not converted to Unicode strings):"
      ]
    },
    {
      "cell_type": "code",
      "metadata": {
        "id": "Kwqyzc-yt0Qj",
        "colab_type": "code",
        "colab": {
          "base_uri": "https://localhost:8080/",
          "height": 1000
        },
        "outputId": "1347fce6-7b3a-41d5-d7ed-8ad040465448"
      },
      "source": [
        "parsed = json.loads(df['Release'].to_json())\n",
        "print(json.dumps(parsed, indent=4, sort_keys=False))"
      ],
      "execution_count": 25,
      "outputs": [
        {
          "output_type": "stream",
          "text": [
            "{\n",
            "    \"0\": {\n",
            "        \"ocid\": \"ocds-k50g02-19-12-8923103\",\n",
            "        \"id\": \"19-12-8923103\",\n",
            "        \"date\": \"2019-01-25T10:00:30.000Z\",\n",
            "        \"tag\": [\n",
            "            \"contract\"\n",
            "        ],\n",
            "        \"initiationType\": \"tender\",\n",
            "        \"parties\": [\n",
            "            {\n",
            "                \"name\": \"META - ALCALD\\u00cdA MUNICIPIO DE MESETAS\",\n",
            "                \"id\": \"891502397\",\n",
            "                \"identifier\": {\n",
            "                    \"scheme\": \"CO-RUE\",\n",
            "                    \"id\": \"891502397\",\n",
            "                    \"legalName\": \"META - ALCALD\\u00cdA MUNICIPIO DE MESETAS\"\n",
            "                },\n",
            "                \"address\": {\n",
            "                    \"locality\": \"Mesetas\",\n",
            "                    \"region\": \"Meta\",\n",
            "                    \"countryName\": \"COLOMBIA\"\n",
            "                },\n",
            "                \"contactPoint\": {\n",
            "                    \"name\": \"LILIANA CASTRO\",\n",
            "                    \"email\": \"bancodeproyectos@mesetas-meta.gov.co\",\n",
            "                    \"telephone\": \"(8) 6598012\"\n",
            "                },\n",
            "                \"details\": {\n",
            "                    \"level\": \"TERRITORIAL\",\n",
            "                    \"order\": \"TERRITORIAL DISTRITAL MUNICIPAL NIVEL 6\"\n",
            "                },\n",
            "                \"roles\": [\n",
            "                    \"procuringEntity\",\n",
            "                    \"buyer\",\n",
            "                    \"payer\"\n",
            "                ]\n",
            "            },\n",
            "            {\n",
            "                \"name\": \"WILSON GIRALDO MONTENEGRO\",\n",
            "                \"id\": \"17285105\",\n",
            "                \"identifier\": {\n",
            "                    \"scheme\": \"CO-RUE\",\n",
            "                    \"id\": \"17285105\",\n",
            "                    \"legalName\": \"WILSON GIRALDO MONTENEGRO\"\n",
            "                },\n",
            "                \"address\": {\n",
            "                    \"streetAddress\": \"MESETAS META\",\n",
            "                    \"locality\": \"Meta\",\n",
            "                    \"region\": \" Colombia\",\n",
            "                    \"countryName\": \"COLOMBIA\"\n",
            "                },\n",
            "                \"contactPoint\": {\n",
            "                    \"name\": \"WILSON GIRALDO MONTENEGRO\"\n",
            "                },\n",
            "                \"additionalContactPoint\": {\n",
            "                    \"identifier\": {\n",
            "                        \"scheme\": \"COL-IDCARD\",\n",
            "                        \"id\": \"17285105\",\n",
            "                        \"legalName\": \"WILSON GIRALDO MONTENEGRO\"\n",
            "                    }\n",
            "                },\n",
            "                \"roles\": [\n",
            "                    \"supplier\",\n",
            "                    \"payee\"\n",
            "                ]\n",
            "            }\n",
            "        ],\n",
            "        \"buyer\": {\n",
            "            \"id\": \"891502397\",\n",
            "            \"name\": \"META - ALCALD\\u00cdA MUNICIPIO DE MESETAS\"\n",
            "        },\n",
            "        \"planning\": {\n",
            "            \"rationale\": \"PRESTACION DE SERVICIOS DE APOYO A LA GESTION PARA EL EMBELLECIMIENTO DEL CEMENTERIO MUNICIPAL DE MESETAS\",\n",
            "            \"budget\": {\n",
            "                \"id\": \"20190000024\",\n",
            "                \"description\": \"CDP\",\n",
            "                \"amount\": {\n",
            "                    \"amount\": 16800000.0,\n",
            "                    \"currency\": \"COP\"\n",
            "                }\n",
            "            },\n",
            "            \"milestones\": [\n",
            "                {\n",
            "                    \"dueDate\": \"2019-01-22T20:00:00.000Z\",\n",
            "                    \"id\": 1,\n",
            "                    \"title\": \"Apertura\",\n",
            "                    \"type\": \"preProcurement\",\n",
            "                    \"status\": \"scheduled\"\n",
            "                }\n",
            "            ]\n",
            "        },\n",
            "        \"tender\": {\n",
            "            \"id\": \"19-12-8923103\",\n",
            "            \"title\": \"CD - 043 DE 2019\",\n",
            "            \"description\": \"PRESTACION DE SERVICIOS DE APOYO A LA GESTION PARA EL EMBELLECIMIENTO DEL CEMENTERIO MUNICIPAL DE MESETAS\",\n",
            "            \"status\": \"complete\",\n",
            "            \"procuringEntity\": {\n",
            "                \"id\": \"891502397\",\n",
            "                \"name\": \"META - ALCALD\\u00cdA MUNICIPIO DE MESETAS\"\n",
            "            },\n",
            "            \"items\": [\n",
            "                {\n",
            "                    \"id\": \"801117\",\n",
            "                    \"description\": \"Reclutamiento de personal\",\n",
            "                    \"classification\": {\n",
            "                        \"scheme\": \"UNSPSC\",\n",
            "                        \"id\": \"801117\",\n",
            "                        \"description\": \"Reclutamiento de personal\",\n",
            "                        \"uri\": \"http://www.colombiacompra.gov.co/clasificador-de-bienes-y-servicios\"\n",
            "                    },\n",
            "                    \"additionalClassifications\": [\n",
            "                        {\n",
            "                            \"scheme\": \"UNSPSC\",\n",
            "                            \"id\": \"8011\",\n",
            "                            \"description\": \"Servicios de recursos humanos\",\n",
            "                            \"uri\": \"http://www.colombiacompra.gov.co/clasificador-de-bienes-y-servicios\"\n",
            "                        }\n",
            "                    ]\n",
            "                }\n",
            "            ],\n",
            "            \"value\": {\n",
            "                \"amount\": 16800000.0,\n",
            "                \"currency\": \"COP\"\n",
            "            },\n",
            "            \"procurementMethod\": \"limited\",\n",
            "            \"procurementMethodDetails\": \"Contrataci\\u00f3n Directa (Ley 1150 de 2007)\",\n",
            "            \"procurementMethodDetailsRationale\": \"Prestaci\\u00f3n de Servicios Profesionales y de Apoyo a la Gesti\\u00f3n (Literal H)\",\n",
            "            \"submissionMethod\": [\n",
            "                \"inPerson\"\n",
            "            ],\n",
            "            \"submissionMethodDetails\": \"Municipio obtenci\\u00f3n: Mesetas Municipio entrega: Mesetas Municipio ejecuci\\u00f3n: Meta - Mesetas Lugar aclaraciones: No definido\",\n",
            "            \"expressionAddress\": {\n",
            "                \"countryName\": \"Colombia\"\n",
            "            },\n",
            "            \"tenderPeriod\": {\n",
            "                \"startDate\": \"2019-01-22T20:00:00.000Z\"\n",
            "            },\n",
            "            \"milestones\": [\n",
            "                {\n",
            "                    \"dueDate\": \"2019-01-22T20:00:00.000Z\",\n",
            "                    \"id\": 1,\n",
            "                    \"title\": \"Apertura\",\n",
            "                    \"type\": \"preProcurement\",\n",
            "                    \"status\": \"scheduled\"\n",
            "                }\n",
            "            ],\n",
            "            \"coveredBy\": [\n",
            "                \"x_Estatuto_General_de_Contrataci\\u00f3n\"\n",
            "            ]\n",
            "        },\n",
            "        \"contracts\": [\n",
            "            {\n",
            "                \"id\": 8118331,\n",
            "                \"awardID\": 8118331,\n",
            "                \"title\": \"043 DE 2019\",\n",
            "                \"description\": \"PRESTACION DE SERVICIOS DE APOYO A LA GESTION PARA EL EMBELLECIMIENTO DEL CEMENTERIO MUNICIPAL DE MESETAS\",\n",
            "                \"period\": {\n",
            "                    \"startDate\": \"2019-01-22T00:00:00.000Z\",\n",
            "                    \"durationInDays\": 330\n",
            "                },\n",
            "                \"value\": {\n",
            "                    \"amount\": 16800000.0,\n",
            "                    \"currency\": \"COP\"\n",
            "                },\n",
            "                \"items\": [\n",
            "                    {\n",
            "                        \"id\": \"801117\",\n",
            "                        \"description\": \"Reclutamiento de personal\",\n",
            "                        \"classification\": {\n",
            "                            \"scheme\": \"UNSPSC\",\n",
            "                            \"id\": \"801117\",\n",
            "                            \"description\": \"Reclutamiento de personal\",\n",
            "                            \"uri\": \"http://www.colombiacompra.gov.co/clasificador-de-bienes-y-servicios\"\n",
            "                        },\n",
            "                        \"additionalClassifications\": [\n",
            "                            {\n",
            "                                \"scheme\": \"UNSPSC\",\n",
            "                                \"id\": \"8011\",\n",
            "                                \"description\": \"Servicios de recursos humanos\",\n",
            "                                \"uri\": \"http://www.colombiacompra.gov.co/clasificador-de-bienes-y-servicios\"\n",
            "                            }\n",
            "                        ]\n",
            "                    }\n",
            "                ],\n",
            "                \"dateSigned\": \"2019-01-22T00:00:00.000Z\"\n",
            "            }\n",
            "        ]\n",
            "    }\n",
            "}\n"
          ],
          "name": "stdout"
        }
      ]
    },
    {
      "cell_type": "markdown",
      "metadata": {
        "id": "rr6_7GRHu5oW",
        "colab_type": "text"
      },
      "source": [
        "# Parsing the JSON records to obtain usable dataframes"
      ]
    },
    {
      "cell_type": "markdown",
      "metadata": {
        "id": "LOyDkGwDR-pI",
        "colab_type": "text"
      },
      "source": [
        "We shall create a function that does the following *for each record*:\n",
        "\n",
        "1. Normalises the JSON file.\n",
        "1. Checks which columns are JSON arrays (Python lists).\n",
        "1. For each column that is an array, it normalises it.\n",
        "1. Repeat the previous steps until there are no arrays left.\n",
        "1. Keeps track of the identifiers for each column.\n",
        "1. Creates a normalised DataFrame with all the data.\n",
        "\n",
        "\n",
        "This function is called `json_row_to_df()`.\n",
        "\n",
        "Some good resources are [this one](https://mindtrove.info/flatten-nested-json-with-pandas/), [this one](https://stackoverflow.com/questions/45418334/using-pandas-json-normalize-on-nested-json-with-arrays), [this one](https://stackoverflow.com/questions/45672130/how-to-identify-a-pandas-column-is-a-list) and [this one](https://stackoverflow.com/questions/20638006/convert-list-of-dictionaries-to-a-pandas-dataframe/53831756#53831756).\n",
        "\n",
        "The function's pseudocode is the following (notice the use of recursion):\n",
        "\n",
        "```\n",
        "def json_row_to_df(record):\n",
        "\n",
        "    if this level is a Json dictionary:\n",
        "        normalise it\n",
        "    elif this level is a Json array:\n",
        "        extract its first element\n",
        "        json_row_to_df(first element)\n",
        "    elif this level is a 1-dimension element:\n",
        "        merge it with the upper level (possibly normalised) dataframe\n",
        "    \n",
        "    return merged dataframe\n",
        "```\n",
        "\n"
      ]
    },
    {
      "cell_type": "code",
      "metadata": {
        "id": "DTK-IsWIPr59",
        "colab_type": "code",
        "outputId": "367d4b8b-7f23-40bf-c7f7-d22310944929",
        "colab": {
          "base_uri": "https://localhost:8080/",
          "height": 194
        }
      },
      "source": [
        "RELEASE = df['Release']\n",
        "MAIN = json_normalize(RELEASE).set_index('ocid')\n",
        "ocid = MAIN.index[0]\n",
        "\n",
        "## Las ramas primarias\n",
        "PARTIES = json_normalize(RELEASE, record_path='parties')\n",
        "MAIN = MAIN.drop(columns=['parties'])\n",
        "PARTIES['ocid'] = ocid\n",
        "PARTIES = PARTIES.set_index('ocid')\n",
        "PARTIES = PARTIES.add_prefix('PARTIES.')\n",
        "\n",
        "CONTRACTS = json_normalize(RELEASE, record_path='contracts')\n",
        "MAIN = MAIN.drop(columns=['contracts'])\n",
        "CONTRACTS['ocid'] = ocid\n",
        "CONTRACTS = CONTRACTS.set_index('ocid')\n",
        "CONTRACTS = CONTRACTS.add_prefix('CONTRACTS.')\n",
        "\n",
        "## Ramas secundarias\n",
        "\n",
        "PLANNING_MILESTONES = json_normalize(MAIN['planning.milestones'][0])\n",
        "MAIN = MAIN.drop(columns=['planning.milestones'])\n",
        "PLANNING_MILESTONES['ocid'] = ocid\n",
        "PLANNING_MILESTONES = PLANNING_MILESTONES.set_index('ocid')\n",
        "PLANNING_MILESTONES = PLANNING_MILESTONES.add_prefix('PLANNING.MILESTONES.')\n",
        "\n",
        "ITEMS = json_normalize(CONTRACTS['CONTRACTS.items'][0])\n",
        "CONTRACTS = CONTRACTS.drop(columns=['CONTRACTS.items'])\n",
        "ITEMS['ocid'] = ocid\n",
        "ITEMS = ITEMS.set_index('ocid')\n",
        "ITEMS = ITEMS.add_prefix('CONTRACTS.ITEMS.')\n",
        "\n",
        "ADDITIONALCLASSIFICATIONS = json_normalize(ITEMS['CONTRACTS.ITEMS.additionalClassifications'][0])\n",
        "ITEMS = ITEMS.drop(columns=['CONTRACTS.ITEMS.additionalClassifications'])\n",
        "ADDITIONALCLASSIFICATIONS['ocid'] = ocid\n",
        "ADDITIONALCLASSIFICATIONS = ADDITIONALCLASSIFICATIONS.set_index('ocid')\n",
        "ADDITIONALCLASSIFICATIONS = ADDITIONALCLASSIFICATIONS.add_prefix('CONTRACTS.ITEMS.ADDITIONALCLASSIFICATIONS.')\n",
        "\n",
        "# CONTRACTS_PERIOD = json_normalize(CONTRACTS['CONTRACTS.period'][0])\n",
        "# CONTRACTS = CONTRACTS.drop(columns=['CONTRACTS.period'])\n",
        "# CONTRACTS_PERIOD['ocid'] = ocid\n",
        "# CONTRACTS_PERIOD = CONTRACTS_PERIOD.set_index('ocid')\n",
        "# CONTRACTS_PERIOD = CONTRACTS_PERIOD.add_prefix('CONTRACTS.PERIOD.')\n",
        "\n",
        "MAIN\n",
        "# ## JOIN\n",
        "\n",
        "# RESULT = MAIN.join(CONTRACTS).join(ITEMS).join(ADDITIONALCLASSIFICATIONS).join(PARTIES).join(PLANNING_MILESTONES).join(CONTRACTS_VALUE).join(CONTRACTS_PERIOD)\n",
        "# RESULT = pd.DataFrame(RESULT.stack()).reset_index()\n",
        "# #RESULT.index = \n",
        "# i = RESULT['level_1'].str.split('.',expand=True)\n",
        "# v = RESULT.values\n",
        "# #pd.DataFrame(v, index=[i])\n",
        "# #CONTRACTS\n",
        "# i.set_index([0,1,2,3])\n",
        "# #MAIN"
      ],
      "execution_count": 26,
      "outputs": [
        {
          "output_type": "execute_result",
          "data": {
            "text/html": [
              "<div>\n",
              "<style scoped>\n",
              "    .dataframe tbody tr th:only-of-type {\n",
              "        vertical-align: middle;\n",
              "    }\n",
              "\n",
              "    .dataframe tbody tr th {\n",
              "        vertical-align: top;\n",
              "    }\n",
              "\n",
              "    .dataframe thead th {\n",
              "        text-align: right;\n",
              "    }\n",
              "</style>\n",
              "<table border=\"1\" class=\"dataframe\">\n",
              "  <thead>\n",
              "    <tr style=\"text-align: right;\">\n",
              "      <th></th>\n",
              "      <th>id</th>\n",
              "      <th>date</th>\n",
              "      <th>tag</th>\n",
              "      <th>initiationType</th>\n",
              "      <th>buyer.id</th>\n",
              "      <th>buyer.name</th>\n",
              "      <th>planning.rationale</th>\n",
              "      <th>planning.budget.id</th>\n",
              "      <th>planning.budget.description</th>\n",
              "      <th>planning.budget.amount.amount</th>\n",
              "      <th>planning.budget.amount.currency</th>\n",
              "      <th>tender.id</th>\n",
              "      <th>tender.title</th>\n",
              "      <th>tender.description</th>\n",
              "      <th>tender.status</th>\n",
              "      <th>tender.procuringEntity.id</th>\n",
              "      <th>tender.procuringEntity.name</th>\n",
              "      <th>tender.items</th>\n",
              "      <th>tender.value.amount</th>\n",
              "      <th>tender.value.currency</th>\n",
              "      <th>tender.procurementMethod</th>\n",
              "      <th>tender.procurementMethodDetails</th>\n",
              "      <th>tender.procurementMethodDetailsRationale</th>\n",
              "      <th>tender.submissionMethod</th>\n",
              "      <th>tender.submissionMethodDetails</th>\n",
              "      <th>tender.expressionAddress.countryName</th>\n",
              "      <th>tender.tenderPeriod.startDate</th>\n",
              "      <th>tender.milestones</th>\n",
              "      <th>tender.coveredBy</th>\n",
              "    </tr>\n",
              "    <tr>\n",
              "      <th>ocid</th>\n",
              "      <th></th>\n",
              "      <th></th>\n",
              "      <th></th>\n",
              "      <th></th>\n",
              "      <th></th>\n",
              "      <th></th>\n",
              "      <th></th>\n",
              "      <th></th>\n",
              "      <th></th>\n",
              "      <th></th>\n",
              "      <th></th>\n",
              "      <th></th>\n",
              "      <th></th>\n",
              "      <th></th>\n",
              "      <th></th>\n",
              "      <th></th>\n",
              "      <th></th>\n",
              "      <th></th>\n",
              "      <th></th>\n",
              "      <th></th>\n",
              "      <th></th>\n",
              "      <th></th>\n",
              "      <th></th>\n",
              "      <th></th>\n",
              "      <th></th>\n",
              "      <th></th>\n",
              "      <th></th>\n",
              "      <th></th>\n",
              "      <th></th>\n",
              "    </tr>\n",
              "  </thead>\n",
              "  <tbody>\n",
              "    <tr>\n",
              "      <th>ocds-k50g02-19-12-8923103</th>\n",
              "      <td>19-12-8923103</td>\n",
              "      <td>2019-01-25T10:00:30.000Z</td>\n",
              "      <td>[contract]</td>\n",
              "      <td>tender</td>\n",
              "      <td>891502397</td>\n",
              "      <td>META - ALCALDÍA MUNICIPIO DE MESETAS</td>\n",
              "      <td>PRESTACION DE SERVICIOS DE APOYO A LA GESTION ...</td>\n",
              "      <td>20190000024</td>\n",
              "      <td>CDP</td>\n",
              "      <td>16800000.0</td>\n",
              "      <td>COP</td>\n",
              "      <td>19-12-8923103</td>\n",
              "      <td>CD - 043 DE 2019</td>\n",
              "      <td>PRESTACION DE SERVICIOS DE APOYO A LA GESTION ...</td>\n",
              "      <td>complete</td>\n",
              "      <td>891502397</td>\n",
              "      <td>META - ALCALDÍA MUNICIPIO DE MESETAS</td>\n",
              "      <td>[{'id': '801117', 'description': 'Reclutamient...</td>\n",
              "      <td>16800000.0</td>\n",
              "      <td>COP</td>\n",
              "      <td>limited</td>\n",
              "      <td>Contratación Directa (Ley 1150 de 2007)</td>\n",
              "      <td>Prestación de Servicios Profesionales y de Apo...</td>\n",
              "      <td>[inPerson]</td>\n",
              "      <td>Municipio obtención: Mesetas Municipio entrega...</td>\n",
              "      <td>Colombia</td>\n",
              "      <td>2019-01-22T20:00:00.000Z</td>\n",
              "      <td>[{'dueDate': '2019-01-22T20:00:00.000Z', 'id':...</td>\n",
              "      <td>[x_Estatuto_General_de_Contratación]</td>\n",
              "    </tr>\n",
              "  </tbody>\n",
              "</table>\n",
              "</div>"
            ],
            "text/plain": [
              "                                      id  ...                      tender.coveredBy\n",
              "ocid                                      ...                                      \n",
              "ocds-k50g02-19-12-8923103  19-12-8923103  ...  [x_Estatuto_General_de_Contratación]\n",
              "\n",
              "[1 rows x 29 columns]"
            ]
          },
          "metadata": {
            "tags": []
          },
          "execution_count": 26
        }
      ]
    }
  ]
}
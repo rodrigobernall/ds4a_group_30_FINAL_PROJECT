{
 "cells": [
  {
   "cell_type": "code",
   "execution_count": 6,
   "metadata": {},
   "outputs": [],
   "source": [
    "# pip install pymongo\n",
    "import pandas as pd\n",
    "import numpy as np\n",
    "def get_db():\n",
    "    from pymongo import MongoClient\n",
    "    client = MongoClient(\n",
    "        host=\"localhost\",\n",
    "        maxPoolSize=50,\n",
    "        unicode_decode_error_handler='ignore')\n",
    "    db = client.secop\n",
    "    return db"
   ]
  },
  {
   "cell_type": "code",
   "execution_count": 22,
   "metadata": {},
   "outputs": [],
   "source": [
    "import locale\n",
    "locale.setlocale(locale.LC_ALL, 'en_US.UTF-8') \n",
    "def get_amountTotal(collection):\n",
    "    pipeline = [\n",
    "       { \"$group\": { \"_id\":\"null\", \"amountTotal\": { \"$sum\": \"$Release.planning.budget.amount.amount\"} } }\n",
    "    ]\n",
    "    response = list(collection.aggregate(pipeline))\n",
    "    return locale.currency(response[0]['amountTotal'], grouping=True)"
   ]
  },
  {
   "cell_type": "code",
   "execution_count": 23,
   "metadata": {},
   "outputs": [
    {
     "data": {
      "text/plain": [
       "'$1,417,107,607,935,814.00'"
      ]
     },
     "execution_count": 23,
     "metadata": {},
     "output_type": "execute_result"
    }
   ],
   "source": [
    "get_amountTotal(get_db().SECOP2)"
   ]
  },
  {
   "cell_type": "code",
   "execution_count": 7,
   "metadata": {},
   "outputs": [],
   "source": [
    "cur=get_db().SECOP2.count_documents( {\"Release.buyer.id\":\"900477169\"} )"
   ]
  },
  {
   "cell_type": "code",
   "execution_count": 8,
   "metadata": {},
   "outputs": [
    {
     "name": "stdout",
     "output_type": "stream",
     "text": [
      "974\n"
     ]
    }
   ],
   "source": [
    "print(cur)"
   ]
  },
  {
   "cell_type": "code",
   "execution_count": 17,
   "metadata": {},
   "outputs": [],
   "source": [
    "df = pd.DataFrame(dict(TD=[cur]))\n",
    "td2011=get_db().SI2011.estimated_document_count( )\n",
    "td2012=get_db().SI2012.estimated_document_count( )\n",
    "td2013=get_db().SI2013.estimated_document_count( )\n",
    "td2014=get_db().SI2014.estimated_document_count( )\n",
    "td2015=get_db().SI2015.estimated_document_count( )\n",
    "td2016=get_db().SI2016.estimated_document_count( )\n",
    "td2017=get_db().SI2017.estimated_document_count( )\n",
    "td2018=get_db().SI2018.estimated_document_count( )\n",
    "td2019=get_db().SI2019.estimated_document_count( )\n",
    "tdsecop2=get_db().SECOP2.estimated_document_count( )\n",
    "\n"
   ]
  },
  {
   "cell_type": "code",
   "execution_count": 24,
   "metadata": {},
   "outputs": [
    {
     "data": {
      "text/html": [
       "<div>\n",
       "<style scoped>\n",
       "    .dataframe tbody tr th:only-of-type {\n",
       "        vertical-align: middle;\n",
       "    }\n",
       "\n",
       "    .dataframe tbody tr th {\n",
       "        vertical-align: top;\n",
       "    }\n",
       "\n",
       "    .dataframe thead th {\n",
       "        text-align: right;\n",
       "    }\n",
       "</style>\n",
       "<table border=\"1\" class=\"dataframe\">\n",
       "  <thead>\n",
       "    <tr style=\"text-align: right;\">\n",
       "      <th></th>\n",
       "      <th>Name</th>\n",
       "      <th>TotalDocuments</th>\n",
       "      <th>TotalAmount</th>\n",
       "    </tr>\n",
       "  </thead>\n",
       "  <tbody>\n",
       "    <tr>\n",
       "      <td>0</td>\n",
       "      <td>2011</td>\n",
       "      <td>258093</td>\n",
       "      <td>$5,294,868,762.00</td>\n",
       "    </tr>\n",
       "    <tr>\n",
       "      <td>1</td>\n",
       "      <td>2012</td>\n",
       "      <td>456742</td>\n",
       "      <td>$1,991,249,988,324.00</td>\n",
       "    </tr>\n",
       "    <tr>\n",
       "      <td>2</td>\n",
       "      <td>2013</td>\n",
       "      <td>644937</td>\n",
       "      <td>$2,390,125,065,387,079.00</td>\n",
       "    </tr>\n",
       "    <tr>\n",
       "      <td>3</td>\n",
       "      <td>2014</td>\n",
       "      <td>827527</td>\n",
       "      <td>$2,160,560,482,790,185.00</td>\n",
       "    </tr>\n",
       "    <tr>\n",
       "      <td>4</td>\n",
       "      <td>2015</td>\n",
       "      <td>1030160</td>\n",
       "      <td>$2,497,242,652,271,189.00</td>\n",
       "    </tr>\n",
       "    <tr>\n",
       "      <td>5</td>\n",
       "      <td>2016</td>\n",
       "      <td>1152345</td>\n",
       "      <td>$1,374,348,421,994,232.00</td>\n",
       "    </tr>\n",
       "    <tr>\n",
       "      <td>6</td>\n",
       "      <td>2017</td>\n",
       "      <td>1264550</td>\n",
       "      <td>$3,235,111,461,889,581.00</td>\n",
       "    </tr>\n",
       "    <tr>\n",
       "      <td>7</td>\n",
       "      <td>2018</td>\n",
       "      <td>16120</td>\n",
       "      <td>$5,907,315,756,957.00</td>\n",
       "    </tr>\n",
       "    <tr>\n",
       "      <td>8</td>\n",
       "      <td>2019</td>\n",
       "      <td>169537</td>\n",
       "      <td>$32,082,354,486,245.00</td>\n",
       "    </tr>\n",
       "    <tr>\n",
       "      <td>9</td>\n",
       "      <td>SECOP2</td>\n",
       "      <td>243840</td>\n",
       "      <td>$1,417,107,607,935,814.00</td>\n",
       "    </tr>\n",
       "  </tbody>\n",
       "</table>\n",
       "</div>"
      ],
      "text/plain": [
       "     Name  TotalDocuments                TotalAmount\n",
       "0    2011          258093          $5,294,868,762.00\n",
       "1    2012          456742      $1,991,249,988,324.00\n",
       "2    2013          644937  $2,390,125,065,387,079.00\n",
       "3    2014          827527  $2,160,560,482,790,185.00\n",
       "4    2015         1030160  $2,497,242,652,271,189.00\n",
       "5    2016         1152345  $1,374,348,421,994,232.00\n",
       "6    2017         1264550  $3,235,111,461,889,581.00\n",
       "7    2018           16120      $5,907,315,756,957.00\n",
       "8    2019          169537     $32,082,354,486,245.00\n",
       "9  SECOP2          243840  $1,417,107,607,935,814.00"
      ]
     },
     "execution_count": 24,
     "metadata": {},
     "output_type": "execute_result"
    }
   ],
   "source": [
    "\n",
    "dataf = pd.DataFrame(dict(Name=['2011','2012','2013','2014','2015','2016','2017','2018','2019','SECOP2'],\n",
    "                          TotalDocuments=[td2011,td2012,td2013,td2014,td2015,td2016,td2017,td2018,td2019,tdsecop2],\n",
    "                          TotalAmount=[get_amountTotal(get_db().SI2011),get_amountTotal(get_db().SI2012),get_amountTotal(get_db().SI2013),get_amountTotal(get_db().SI2014),get_amountTotal(get_db().SI2015),get_amountTotal(get_db().SI2016),get_amountTotal(get_db().SI2017),get_amountTotal(get_db().SI2018),get_amountTotal(get_db().SI2019),get_amountTotal(get_db().SECOP2)])\n",
    "                    )\n",
    "dataf"
   ]
  },
  {
   "cell_type": "code",
   "execution_count": null,
   "metadata": {},
   "outputs": [],
   "source": []
  }
 ],
 "metadata": {
  "kernelspec": {
   "display_name": "Python 3",
   "language": "python",
   "name": "python3"
  },
  "language_info": {
   "codemirror_mode": {
    "name": "ipython",
    "version": 3
   },
   "file_extension": ".py",
   "mimetype": "text/x-python",
   "name": "python",
   "nbconvert_exporter": "python",
   "pygments_lexer": "ipython3",
   "version": "3.7.3"
  }
 },
 "nbformat": 4,
 "nbformat_minor": 2
}
